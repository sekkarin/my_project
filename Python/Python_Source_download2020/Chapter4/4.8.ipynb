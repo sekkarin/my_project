{
 "cells": [
  {
   "cell_type": "code",
   "execution_count": 1,
   "metadata": {},
   "outputs": [
    {
     "output_type": "error",
     "ename": "Error",
     "evalue": "Failed to connect to remote Jupyter notebook.\r\nCheck that the Jupyter Server URI setting has a valid running server specified.\r\nhttps://hostname:8080/\r\nError: Kernel Python 3 is not usable. Check the Jupyter output tab for more information.",
     "traceback": [
      "Error:",
      "at new i (c:\\Users\\KEN\\.vscode\\extensions\\ms-toolsai.jupyter-2020.12.414227025\\out\\client\\extension.js:9:110537)",
      "at c:\\Users\\KEN\\.vscode\\extensions\\ms-toolsai.jupyter-2020.12.414227025\\out\\client\\extension.js:32:642937",
      "at processTicksAndRejections (internal/process/task_queues.js:94:5)",
      "Error: Kernel Python 3 is not usable. Check the Jupyter output tab for more information.",
      "at y.createNewKernelSession (c:\\Users\\KEN\\.vscode\\extensions\\ms-toolsai.jupyter-2020.12.414227025\\out\\client\\extension.js:49:555503)",
      "at processTicksAndRejections (internal/process/task_queues.js:94:5)",
      "at y.connect (c:\\Users\\KEN\\.vscode\\extensions\\ms-toolsai.jupyter-2020.12.414227025\\out\\client\\extension.js:49:554970)",
      "at m.startNew (c:\\Users\\KEN\\.vscode\\extensions\\ms-toolsai.jupyter-2020.12.414227025\\out\\client\\extension.js:49:550438)",
      "at v.connect (c:\\Users\\KEN\\.vscode\\extensions\\ms-toolsai.jupyter-2020.12.414227025\\out\\client\\extension.js:49:521987)",
      "at c:\\Users\\KEN\\.vscode\\extensions\\ms-toolsai.jupyter-2020.12.414227025\\out\\client\\extension.js:32:641509"
     ]
    }
   ],
   "source": [
    "str1 = \"Python is the best programming language.\" # สร้างตัวแปรชนิดข้อมูลสตริง\n",
    "print (\"ผลลัพธ์ที่ได้จากการตัดคำ 0:6 =\", str1[0:6]) # แสดง str1 ตัวที่ 0 ถึง 4\n",
    "print (\"ผลลัพธ์ที่ได้จากการตัดคำ -6:-1 =\", str1[-6:-1]) # แสดง str1 ตัวที่ -6 ถึง-1\n",
    "print (\"ผลลัพธ์ที่ได้จากการตัดคำ 6:12 =\", str1[6:12]) # แสดง str1 ตัวที่ 6 ถึง 12\n",
    "print (\"ผลลัพธ์ที่ได้จากการตัดคำ 0:5 =\", str1[:5]) # แสดง str1 ตัวที่ 0 ถึง 5\n",
    "print (\"ผลลัพธ์ที่ได้จากการตัดคำ =\", str1[:]) # แสดงอักขระ str1 ทั้งหมด"
   ]
  },
  {
   "cell_type": "code",
   "execution_count": null,
   "metadata": {},
   "outputs": [],
   "source": []
  }
 ],
 "metadata": {
  "kernelspec": {
   "display_name": "Python 3",
   "language": "python",
   "name": "python3"
  },
  "language_info": {
   "codemirror_mode": {
    "name": "ipython",
    "version": 3
   },
   "file_extension": ".py",
   "mimetype": "text/x-python",
   "name": "python",
   "nbconvert_exporter": "python",
   "pygments_lexer": "ipython3",
   "version": "3.7.4"
  }
 },
 "nbformat": 4,
 "nbformat_minor": 2
}