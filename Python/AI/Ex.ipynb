{
 "metadata": {
  "language_info": {
   "codemirror_mode": {
    "name": "ipython",
    "version": 3
   },
   "file_extension": ".py",
   "mimetype": "text/x-python",
   "name": "python",
   "nbconvert_exporter": "python",
   "pygments_lexer": "ipython3",
   "version": "3.7.4-final"
  },
  "orig_nbformat": 2,
  "kernelspec": {
   "name": "python3",
   "display_name": "Python 3",
   "language": "python"
  }
 },
 "nbformat": 4,
 "nbformat_minor": 2,
 "cells": [
  {
   "cell_type": "code",
   "execution_count": 31,
   "metadata": {},
   "outputs": [],
   "source": [
    "from tkinter import *\n",
    "from tkinter import ttk\n",
    "def calculate(*args):\n",
    "    try:\n",
    "        value = float(feet.get())\n",
    "        meters.set((0.3048*value*10000.0+0.5)/10000.0)\n",
    "    except ValueError:\n",
    "        pass\n",
    "root = Tk()\n",
    "root.title(\"Test calculate\")\n",
    "mainfrm = ttk.Frame(root,padding=\"3 3 12 12\")\n",
    "mainfrm.grid(column =0,row = 0,sticky = (N,W,E,S))\n",
    "mainfrm.columnconfigure(0,weight = 1)\n",
    "mainfrm.rowconfigure(0,weight = 1)\n",
    "\n",
    "feet = StringVar()\n",
    "meters = StringVar()\n",
    "\n",
    "feet_entry = ttk.Entry(mainfrm,width=7,textvariable= feet)\n",
    "feet_entry.grid(column = 2, row =1, sticky =(W,E))\n",
    "\n",
    "ttk.Label(mainfrm,textvariable = meters).grid(column = 2,row = 2,sticky = (W,E))\n",
    "\n",
    "ttk.Button(mainfrm,text=\"feet\").grid(column =3, row=1,sticky = E)\n",
    "ttk.Label(mainfrm,text=\"is equivalent to \").grid(column = 1,row=2,sticky = E)\n",
    "ttk.Label(mainfrm,text=\"meters\").grid(column = 3,row = 2,sticky = W)\n",
    "for child in mainfrm.winfo_children():\n",
    "    child.grid_configure(padx = 5,pady = 5)\n",
    "feet_entry.focus()\n",
    "root.bind('<Return>',calculate)\n",
    "\n",
    "\n",
    "\n",
    "root.mainloop()\n",
    "\n",
    "\n"
   ]
  },
  {
   "cell_type": "code",
   "execution_count": null,
   "metadata": {},
   "outputs": [],
   "source": []
  }
 ]
}